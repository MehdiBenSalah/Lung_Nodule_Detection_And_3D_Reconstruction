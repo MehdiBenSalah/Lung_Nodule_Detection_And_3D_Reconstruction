{
 "cells": [
  {
   "cell_type": "code",
   "execution_count": 1,
   "metadata": {},
   "outputs": [],
   "source": [
    "%matplotlib inline\n",
    "import SimpleITK as sitk\n",
    "import numpy as np\n",
    "import csv\n",
    "from glob import glob\n",
    "import pandas as pd\n",
    "import matplotlib.pyplot as plt\n",
    "import os\n",
    "from tqdm.notebook import tqdm_notebook as tq\n"
   ]
  },
  {
   "cell_type": "code",
   "execution_count": 2,
   "metadata": {},
   "outputs": [],
   "source": [
    "def get_filename(case):\n",
    "    global file_list\n",
    "    for f in file_list:\n",
    "        if case in f:\n",
    "            return(f)"
   ]
  },
  {
   "cell_type": "code",
   "execution_count": 3,
   "metadata": {},
   "outputs": [],
   "source": [
    "def make_mask(center,diam,z,width,height,spacing,origin):\n",
    "    mask = np.zeros([height,width]) # 0's everywhere except nodule swapping x,y to match img\n",
    "    #convert to nodule space from world coordinates\n",
    "\n",
    "    # Defining the voxel range in which the nodule falls\n",
    "    v_center = (center-origin)/spacing\n",
    "    v_diam = int((diam+5)/spacing[0])\n",
    "    v_xmin = np.max([0,int(v_center[0]-v_diam)])\n",
    "    v_xmax = np.min([width-1,int(v_center[0]+v_diam)])\n",
    "    v_ymin = np.max([0,int(v_center[1]-v_diam)]) \n",
    "    v_ymax = np.min([height-1,int(v_center[1]+v_diam)])\n",
    "\n",
    "    v_xrange = range(v_xmin,v_xmax+1)\n",
    "    v_yrange = range(v_ymin,v_ymax+1)\n",
    "\n",
    "    # Convert back to world coordinates for distance calculation\n",
    "    x_data = [x*spacing[0]+origin[0] for x in range(width)]\n",
    "    y_data = [x*spacing[1]+origin[1] for x in range(height)]\n",
    "    for v_x in v_xrange:\n",
    "        for v_y in v_yrange:\n",
    "            p_x = spacing[0]*v_x + origin[0]\n",
    "            p_y = spacing[1]*v_y + origin[1]\n",
    "            if np.linalg.norm(center-np.array([p_x,p_y,z]))<=diam:\n",
    "                mask[int((p_y-origin[1])/spacing[1]),int((p_x-origin[0])/spacing[0])] = 1.0\n",
    "    return(mask)"
   ]
  },
  {
   "cell_type": "code",
   "execution_count": 4,
   "metadata": {},
   "outputs": [],
   "source": [
    "MIN_BOUND=-1000\n",
    "MAX_BOUND=400\n",
    "def normalize(image):\n",
    "    image = (image - MIN_BOUND)/(MAX_BOUND - MIN_BOUND)\n",
    "    image[image>1]=1\n",
    "    image[image<0]=0\n",
    "    return image"
   ]
  },
  {
   "cell_type": "code",
   "execution_count": 5,
   "metadata": {},
   "outputs": [],
   "source": [
    "def matrix2int16(matrix):\n",
    "    ''' \n",
    "matrix must be a numpy array NXN\n",
    "Returns uint16 version\n",
    "    '''\n",
    "    m_min= np.min(matrix)\n",
    "    m_max= np.max(matrix)\n",
    "    matrix = matrix-m_min\n",
    "    return(np.array(np.rint( (matrix-m_min)/float(m_max-m_min) * 65535.0),dtype=np.uint16))\n"
   ]
  },
  {
   "cell_type": "code",
   "execution_count": 13,
   "metadata": {},
   "outputs": [],
   "source": [
    "train_pts = [1,2,3,4,5,6]\n",
    "val_pts = [7,8]\n",
    "test_pts = [9]"
   ]
  },
  {
   "cell_type": "code",
   "execution_count": 7,
   "metadata": {},
   "outputs": [],
   "source": [
    "annotation_path='C:/Users/USER/Downloads/pfa/CSVFILES/annotations.csv' #kol had ybadel \n",
    "\n",
    "tr_output_img_path=\"C:/Users/USER/Downloads/NORMt/luna_img_mask/train/images/class/\"\n",
    "tr_output_mask_path=\"C:/Users/USER/Downloads/NORM/luna_img_mask/train/labels/class/\"\n",
    "\n",
    "if not os.path.isdir(tr_output_img_path):\n",
    "    os.makedirs(tr_output_img_path)\n",
    "if not os.path.isdir(tr_output_mask_path):\n",
    "    os.makedirs(tr_output_mask_path)\n",
    "\n",
    "v_output_img_path=\"C:/Users/USER/Downloads/NORM/luna_img_mask/val/images/class/\"\n",
    "v_output_mask_path=\"C:/Users/USER/Downloads/NORM/luna_img_mask/val/labels/class/\"\n",
    "\n",
    "if not os.path.isdir(v_output_img_path):\n",
    "    os.makedirs(v_output_img_path)\n",
    "if not os.path.isdir(v_output_mask_path):\n",
    "    os.makedirs(v_output_mask_path)\n",
    "    \n",
    "ts_output_img_path=\"C:/Users/USER/Downloads/NORM/luna_img_mask/test/images/class/\"\n",
    "ts_output_mask_path=\"C:/Users/USER/Downloads/NORM/luna_img_mask/test/labels/class/\"\n",
    "\n",
    "if not os.path.isdir(ts_output_img_path):\n",
    "    os.makedirs(ts_output_img_path)\n",
    "if not os.path.isdir(ts_output_mask_path):\n",
    "    os.makedirs(ts_output_mask_path)"
   ]
  },
  {
   "cell_type": "code",
   "execution_count": 14,
   "metadata": {},
   "outputs": [
    {
     "name": "stdout",
     "output_type": "stream",
     "text": [
      "Set: 1\n"
     ]
    },
    {
     "data": {
      "application/vnd.jupyter.widget-view+json": {
       "model_id": "9d060d2aaca5419aa7e1fb9e1633336f",
       "version_major": 2,
       "version_minor": 0
      },
      "text/plain": [
       "  0%|          | 0/89 [00:00<?, ?it/s]"
      ]
     },
     "metadata": {},
     "output_type": "display_data"
    },
    {
     "name": "stdout",
     "output_type": "stream",
     "text": [
      "Set: 6\n"
     ]
    },
    {
     "data": {
      "application/vnd.jupyter.widget-view+json": {
       "model_id": "99bc1caea5644823bdced4a4de2998ed",
       "version_major": 2,
       "version_minor": 0
      },
      "text/plain": [
       "  0%|          | 0/89 [00:00<?, ?it/s]"
      ]
     },
     "metadata": {},
     "output_type": "display_data"
    }
   ],
   "source": [
    "# __________________0 1 6_______________________________________\n",
    "# _______________   2 3 4 5______________________________________\n",
    "for tr in list(train_pts):\n",
    "    print('Set:',tr)\n",
    "    luna_subset_path='C:/Users/USER/Downloads/pfa/subset'+str(tr)+'/' # KOL HAD YBADEL SUBSET MTEOUU WIN \n",
    "    file_list=glob(luna_subset_path+\"*.mhd\")\n",
    "    df_node = pd.read_csv(annotation_path)\n",
    "    df_node[\"file\"] = df_node[\"seriesuid\"].apply(get_filename)\n",
    "    df_node = df_node.dropna() \n",
    "    for img_file in tq(file_list):       \n",
    "        #print \"Getting mask for image file %s\" % img_file.replace(luna_subset_path,\"\")\n",
    "        mini_df = df_node[df_node[\"file\"]==img_file] #get all nodules associate with file\n",
    "#         print(len(mini_df))\n",
    "        if len(mini_df)>0:       # some files may not have a nodule--skipping those \n",
    "            for index, row in mini_df.iterrows():\n",
    "                node_x = row[\"coordX\"]\n",
    "                node_y = row[\"coordY\"]\n",
    "                node_z = row[\"coordZ\"]\n",
    "                diam = row[\"diameter_mm\"]\n",
    "                itk_img = sitk.ReadImage(img_file) \n",
    "                img_array = sitk.GetArrayFromImage(itk_img) # indexes are z,y,x (notice the ordering)\n",
    "                center = np.array([node_x,node_y,node_z])   # nodule center\n",
    "                origin = np.array(itk_img.GetOrigin())      # x,y,z  Origin in world coordinates (mm)\n",
    "                spacing = np.array(itk_img.GetSpacing())    # spacing of voxels in world coor. (mm)\n",
    "                v_center =np.rint((center-origin)/spacing)  # nodule center in voxel space (still x,y,z ordering)\n",
    "                num_z, height, width = img_array.shape\n",
    "\n",
    "                center = np.array([node_x, node_y, node_z])   # nodule center\n",
    "                v_center = np.rint((center-origin)/spacing) \n",
    "\n",
    "                for i_z in range(int(v_center[2])-1,int(v_center[2])+2):\n",
    "                    mask = make_mask(center,diam,i_z*spacing[2]+origin[2],width,height,spacing,origin)\n",
    "                    masks = mask\n",
    "        #             imgs = matrix2int16(img_array[i_z])\n",
    "                    imgs = img_array[i_z]\n",
    "                    middle = imgs[100:400,100:400]\n",
    "                    mean = np.mean(middle)  \n",
    "                    max = np.max(imgs)\n",
    "                    min = np.min(imgs)\n",
    "                    # To improve threshold finding, I'm moving the \n",
    "                    # underflow and overflow on the pixel spectrum\n",
    "                    imgs[imgs==max]=mean\n",
    "                    imgs[imgs==min]=mean\n",
    "        #             print('orig:',img_array[i_z].max())\n",
    "        #             print('int16:',imgs.max())\n",
    "                    imgs=normalize(imgs)\n",
    "                    np.save(tr_output_img_path+\"images_\"+str(index)+\".npy\",imgs)\n",
    "                    np.save(tr_output_mask_path+\"masks_\"+str(index)+\".npy\",masks)\n"
   ]
  },
  {
   "cell_type": "code",
   "execution_count": 9,
   "metadata": {},
   "outputs": [
    {
     "data": {
      "text/plain": [
       "'\\n# MONTA ________________7 8 _________________________________________\\nfor val in list(val_pts):\\n    print(\\'Set:\\',val)\\n    luna_subset_path=\"C:/Users/USER/Downloads/utorrent_dow/subset\"+str(val)+\"/\" # KOL HAD YBADEL SUBSET MTEOUU WIN \\n    file_list=glob(luna_subset_path+\"*.mhd\")\\n    df_node = pd.read_csv(annotation_path)\\n    df_node[\"file\"] = df_node[\"seriesuid\"].apply(get_filename)\\n    df_node = df_node.dropna()\\n    for img_file in tq(file_list):       \\n        #print \"Getting mask for image file %s\" % img_file.replace(luna_subset_path,\"\")\\n        mini_df = df_node[df_node[\"file\"]==img_file] #get all nodules associate with file\\n#         print(len(mini_df))\\n        if len(mini_df)>0:       # some files may not have a nodule--skipping those \\n            for index, row in mini_df.iterrows():\\n                node_x = row[\"coordX\"]\\n                node_y = row[\"coordY\"]\\n                node_z = row[\"coordZ\"]\\n                diam = row[\"diameter_mm\"]\\n                itk_img = sitk.ReadImage(img_file) \\n                img_array = sitk.GetArrayFromImage(itk_img) # indexes are z,y,x (notice the ordering)\\n                center = np.array([node_x,node_y,node_z])   # nodule center\\n                origin = np.array(itk_img.GetOrigin())      # x,y,z  Origin in world coordinates (mm)\\n                spacing = np.array(itk_img.GetSpacing())    # spacing of voxels in world coor. (mm)\\n                v_center =np.rint((center-origin)/spacing)  # nodule center in voxel space (still x,y,z ordering)\\n                num_z, height, width = img_array.shape\\n\\n                center = np.array([node_x, node_y, node_z])   # nodule center\\n                v_center = np.rint((center-origin)/spacing) \\n\\n                for i_z in range(int(v_center[2])-1,int(v_center[2])+2):\\n                    mask = make_mask(center,diam,i_z*spacing[2]+origin[2],width,height,spacing,origin)\\n                    masks = mask\\n        #             imgs = matrix2int16(img_array[i_z])\\n                    imgs = img_array[i_z]\\n                    middle = imgs[100:400,100:400]\\n                    mean = np.mean(middle)  \\n                    max = np.max(imgs)\\n                    min = np.min(imgs)\\n                    # To improve threshold finding, I\\'m moving the \\n                    # underflow and overflow on the pixel spectrum\\n                    imgs[imgs==max]=mean\\n                    imgs[imgs==min]=mean\\n        #             print(\\'orig:\\',img_array[i_z].max())\\n        #             print(\\'int16:\\',imgs.max())\\n                    imgs=normalize(imgs)\\n                    np.save(v_output_img_path+\"images_\"+str(index)+\".npy\",imgs)\\n                    np.save(v_output_mask_path+\"masks_\"+str(index)+\".npy\",masks)\\n'"
      ]
     },
     "execution_count": 9,
     "metadata": {},
     "output_type": "execute_result"
    }
   ],
   "source": [
    "________________7 8 _________________________________________\n",
    "for val in list(val_pts):\n",
    "    print('Set:',val)\n",
    "    luna_subset_path=\"C:/Users/USER/Downloads/utorrent_dow/subset\"+str(val)+\"/\" # KOL HAD YBADEL SUBSET MTEOUU WIN \n",
    "    file_list=glob(luna_subset_path+\"*.mhd\")\n",
    "    df_node = pd.read_csv(annotation_path)\n",
    "    df_node[\"file\"] = df_node[\"seriesuid\"].apply(get_filename)\n",
    "    df_node = df_node.dropna()\n",
    "    for img_file in tq(file_list):       \n",
    "        #print \"Getting mask for image file %s\" % img_file.replace(luna_subset_path,\"\")\n",
    "        mini_df = df_node[df_node[\"file\"]==img_file] #get all nodules associate with file\n",
    "#         print(len(mini_df))\n",
    "        if len(mini_df)>0:       # some files may not have a nodule--skipping those \n",
    "            for index, row in mini_df.iterrows():\n",
    "                node_x = row[\"coordX\"]\n",
    "                node_y = row[\"coordY\"]\n",
    "                node_z = row[\"coordZ\"]\n",
    "                diam = row[\"diameter_mm\"]\n",
    "                itk_img = sitk.ReadImage(img_file) \n",
    "                img_array = sitk.GetArrayFromImage(itk_img) # indexes are z,y,x (notice the ordering)\n",
    "                center = np.array([node_x,node_y,node_z])   # nodule center\n",
    "                origin = np.array(itk_img.GetOrigin())      # x,y,z  Origin in world coordinates (mm)\n",
    "                spacing = np.array(itk_img.GetSpacing())    # spacing of voxels in world coor. (mm)\n",
    "                v_center =np.rint((center-origin)/spacing)  # nodule center in voxel space (still x,y,z ordering)\n",
    "                num_z, height, width = img_array.shape\n",
    "\n",
    "                center = np.array([node_x, node_y, node_z])   # nodule center\n",
    "                v_center = np.rint((center-origin)/spacing) \n",
    "\n",
    "                for i_z in range(int(v_center[2])-1,int(v_center[2])+2):\n",
    "                    mask = make_mask(center,diam,i_z*spacing[2]+origin[2],width,height,spacing,origin)\n",
    "                    masks = mask\n",
    "        #             imgs = matrix2int16(img_array[i_z])\n",
    "                    imgs = img_array[i_z]\n",
    "                    middle = imgs[100:400,100:400]\n",
    "                    mean = np.mean(middle)  \n",
    "                    max = np.max(imgs)\n",
    "                    min = np.min(imgs)\n",
    "                    # To improve threshold finding, I'm moving the \n",
    "                    # underflow and overflow on the pixel spectrum\n",
    "                    imgs[imgs==max]=mean\n",
    "                    imgs[imgs==min]=mean\n",
    "        #             print('orig:',img_array[i_z].max())\n",
    "        #             print('int16:',imgs.max())\n",
    "                    imgs=normalize(imgs)\n",
    "                    np.save(v_output_img_path+\"images_\"+str(index)+\".npy\",imgs)\n",
    "                    np.save(v_output_mask_path+\"masks_\"+str(index)+\".npy\",masks)\n",
    "'''\n"
   ]
  },
  {
   "cell_type": "code",
   "execution_count": 10,
   "metadata": {},
   "outputs": [
    {
     "name": "stdout",
     "output_type": "stream",
     "text": [
      "Set: 9\n"
     ]
    },
    {
     "data": {
      "application/vnd.jupyter.widget-view+json": {
       "model_id": "8383cceb3d2148d1ba6630160f8b92ea",
       "version_major": 2,
       "version_minor": 0
      },
      "text/plain": [
       "  0%|          | 0/88 [00:00<?, ?it/s]"
      ]
     },
     "metadata": {},
     "output_type": "display_data"
    }
   ],
   "source": [
    "\n",
    "#  _________________________ 9 ________________________________\n",
    "for ts in list(test_pts):\n",
    "    print('Set:',ts)\n",
    "    luna_subset_path=\"C:/Users/USER/Downloads/pfa/subset\"+str(ts)+\"/\" # KOL HAD YBADEL SUBSET MTEOUU WIN \n",
    "    file_list=glob(luna_subset_path+\"*.mhd\")\n",
    "    df_node = pd.read_csv(annotation_path)\n",
    "    df_node[\"file\"] = df_node[\"seriesuid\"].apply(get_filename)\n",
    "    df_node = df_node.dropna()\n",
    "    for img_file in tq(file_list):       \n",
    "        #print \"Getting mask for image file %s\" % img_file.replace(luna_subset_path,\"\")\n",
    "        mini_df = df_node[df_node[\"file\"]==img_file] #get all nodules associate with file\n",
    "#         print(len(mini_df))\n",
    "        if len(mini_df)>0:       # some files may not have a nodule--skipping those \n",
    "            for index, row in mini_df.iterrows():\n",
    "                node_x = row[\"coordX\"]\n",
    "                node_y = row[\"coordY\"]\n",
    "                node_z = row[\"coordZ\"]\n",
    "                diam = row[\"diameter_mm\"]\n",
    "                itk_img = sitk.ReadImage(img_file) \n",
    "                img_array = sitk.GetArrayFromImage(itk_img) # indexes are z,y,x (notice the ordering)\n",
    "                center = np.array([node_x,node_y,node_z])   # nodule center\n",
    "                origin = np.array(itk_img.GetOrigin())      # x,y,z  Origin in world coordinates (mm)\n",
    "                spacing = np.array(itk_img.GetSpacing())    # spacing of voxels in world coor. (mm)\n",
    "                v_center =np.rint((center-origin)/spacing)  # nodule center in voxel space (still x,y,z ordering)\n",
    "                num_z, height, width = img_array.shape\n",
    "\n",
    "                center = np.array([node_x, node_y, node_z])   # nodule center\n",
    "                v_center = np.rint((center-origin)/spacing) \n",
    "\n",
    "                for i_z in range(int(v_center[2])-1,int(v_center[2])+2):\n",
    "                    mask = make_mask(center,diam,i_z*spacing[2]+origin[2],width,height,spacing,origin)\n",
    "                    masks = mask\n",
    "        #             imgs = matrix2int16(img_array[i_z])\n",
    "                    imgs = img_array[i_z]\n",
    "                    middle = imgs[100:400,100:400]\n",
    "                    mean = np.mean(middle)  \n",
    "                    max = np.max(imgs)\n",
    "                    min = np.min(imgs)\n",
    "                    # To improve threshold finding, I'm moving the \n",
    "                    # underflow and overflow on the pixel spectrum\n",
    "                    imgs[imgs==max]=mean\n",
    "                    imgs[imgs==min]=mean\n",
    "        #             print('orig:',img_array[i_z].max())\n",
    "        #             print('int16:',imgs.max())\n",
    "                    imgs=normalize(imgs)\n",
    "                    np.save(ts_output_img_path+\"images_\"+str(index)+\".npy\",imgs)\n",
    "                    np.save(ts_output_mask_path+\"masks_\"+str(index)+\".npy\",masks)\n",
    "\n"
   ]
  },
  {
   "cell_type": "code",
   "execution_count": 19,
   "metadata": {},
   "outputs": [
    {
     "name": "stdout",
     "output_type": "stream",
     "text": [
      "[[0.02       0.01       0.00642857 ... 0.01214286 0.46285714 0.00785714]\n",
      " [0.02214286 0.00928571 0.01357143 ... 0.01428571 0.46285714 0.00785714]\n",
      " [0.02142857 0.01571429 0.01714286 ... 0.00428571 0.46285714 0.01714286]\n",
      " ...\n",
      " [0.00285714 0.00285714 0.02       ... 0.04       0.05071429 0.03857143]\n",
      " [0.01       0.01785714 0.02714286 ... 0.03714286 0.03285714 0.03642857]\n",
      " [0.025      0.025      0.02357143 ... 0.04214286 0.04071429 0.04928571]]\n",
      "_______________\n",
      "[[-972 -986 -991 ... -983 -352 -989]\n",
      " [-969 -987 -981 ... -980 -352 -989]\n",
      " [-970 -978 -976 ... -994 -352 -976]\n",
      " ...\n",
      " [-996 -996 -972 ... -944 -929 -946]\n",
      " [-986 -975 -962 ... -948 -954 -949]\n",
      " [-965 -965 -967 ... -941 -943 -931]]\n"
     ]
    }
   ],
   "source": [
    "x=np.load('C:/Users/user/Downloads/Norm_luna_img_mask/test/images/images/images_486.npy')\n",
    "y=np.load('C:/Users/user/Downloads/luna_img_mask/test/images/images_486.npy')\n",
    "print(x)\n",
    "print('_______________')\n",
    "print(y)"
   ]
  },
  {
   "cell_type": "code",
   "execution_count": null,
   "metadata": {},
   "outputs": [],
   "source": []
  }
 ],
 "metadata": {
  "kernelspec": {
   "display_name": "Python 3",
   "language": "python",
   "name": "python3"
  },
  "language_info": {
   "codemirror_mode": {
    "name": "ipython",
    "version": 3
   },
   "file_extension": ".py",
   "mimetype": "text/x-python",
   "name": "python",
   "nbconvert_exporter": "python",
   "pygments_lexer": "ipython3",
   "version": "3.7.4"
  }
 },
 "nbformat": 4,
 "nbformat_minor": 4
}
