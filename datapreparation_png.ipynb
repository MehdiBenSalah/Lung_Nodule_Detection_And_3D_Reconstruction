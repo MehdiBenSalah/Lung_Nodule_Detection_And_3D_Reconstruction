{
 "cells": [
  {
   "cell_type": "code",
   "execution_count": 1,
   "id": "458a79ff-ab95-4f73-a9f4-300c7c467702",
   "metadata": {},
   "outputs": [],
   "source": [
    "%matplotlib inline\n",
    "import os, glob\n",
    "#import nibabel as nib\n",
    "import numpy as np\n",
    "import matplotlib.pyplot as plt\n",
    "import cv2"
   ]
  },
  {
   "cell_type": "code",
   "execution_count": 3,
   "id": "dbd691d3-4961-4809-aab0-2dc4cf847763",
   "metadata": {},
   "outputs": [],
   "source": [
    "tr_NORM_img_path=\"C:/Users/USER/Downloads/luna_img_mask_NORM/train/images/\"\n",
    "tr_NORM_mask_path=\"C:/Users/USER/Downloads/luna_img_mask_NORM/train/labels/\"\n",
    "\n",
    "if not os.path.isdir(tr_NORM_img_path):\n",
    "    os.makedirs(tr_NORM_img_path)\n",
    "if not os.path.isdir(tr_NORM_mask_path):\n",
    "    os.makedirs(tr_NORM_mask_path)\n",
    "\n",
    "v_NORM_img_path=\"C:/Users/USER/Downloads/luna_img_mask_NORM/val/images/\"\n",
    "v_NORM_mask_path=\"C:/Users/USER/Downloads/luna_img_mask_NORM/val/labels/\"\n",
    "\n",
    "if not os.path.isdir(v_NORM_img_path):\n",
    "    os.makedirs(v_NORM_img_path)\n",
    "if not os.path.isdir(v_NORM_mask_path):\n",
    "    os.makedirs(v_NORM_mask_path)\n",
    "\n",
    "ts_NORM_img_path=\"C:/Users/USER/Downloads/luna_img_mask_NORM/test/images/\"\n",
    "ts_NORM_mask_path=\"C:/Users/USER/Downloads/luna_img_mask_NORM/test/labels/\"\n",
    "\n",
    "if not os.path.isdir(ts_NORM_img_path):\n",
    "    os.makedirs(ts_NORM_img_path)\n",
    "if not os.path.isdir(ts_NORM_mask_path):\n",
    "    os.makedirs(ts_NORM_mask_path)"
   ]
  },
  {
   "cell_type": "code",
   "execution_count": 2,
   "id": "bec4b075-8fc3-47dc-a4b6-025350b777c5",
   "metadata": {},
   "outputs": [],
   "source": [
    "# STEP 2 - Image normalization\n",
    "'''\n",
    "Our values currently range from -1024 to around 2000.\n",
    "Anything above 400 is not interesting to us, as these are simply bones with different radiodensity.\n",
    "A commonly used set of thresholds in the LUNA16 competition to normalize between are -1000 and 400.\n",
    "'''\n",
    "HOUNSFIELD_MIN = -1000\n",
    "HOUNSFIELD_MAX = 400\n",
    "HOUNSFIELD_RANGE = HOUNSFIELD_MAX - HOUNSFIELD_MIN"
   ]
  },
  {
   "cell_type": "code",
   "execution_count": 6,
   "id": "ea55a0af-3aeb-4981-8731-8e85b9c729f2",
   "metadata": {},
   "outputs": [],
   "source": [
    "# Normalize image\n",
    "def normalizeImageIntensityRange(img):\n",
    "    img[img < HOUNSFIELD_MIN] = HOUNSFIELD_MIN\n",
    "    img[img > HOUNSFIELD_MAX] = HOUNSFIELD_MAX\n",
    "    return (img - HOUNSFIELD_MIN) / HOUNSFIELD_RANGE"
   ]
  },
  {
   "cell_type": "code",
   "execution_count": null,
   "id": "6fe6fa8a-3b7e-4b7a-b310-7a8fd4742f85",
   "metadata": {},
   "outputs": [],
   "source": [
    "nImg = normalizeImageIntensityRange(img)"
   ]
  },
  {
   "cell_type": "code",
   "execution_count": 3,
   "id": "78dcd990-3aff-4e1f-9800-fa1e844aa105",
   "metadata": {},
   "outputs": [],
   "source": [
    "# Save imagearray(npy) to png file : \n",
    "\n",
    "def saveSlice(img, fname, path):\n",
    "    img = np.uint8(img * 255)\n",
    "    fout = os.path.join(path, f'{fname}.png')\n",
    "    cv2.imwrite(fout, img)\n",
    "    print(f'[+] Slice saved: {fout}', end='\\r')\n"
   ]
  },
  {
   "cell_type": "code",
   "execution_count": 6,
   "id": "c87e845e-7721-4e5b-9baf-0313f8358fc9",
   "metadata": {},
   "outputs": [
    {
     "name": "stdout",
     "output_type": "stream",
     "text": [
      "[+] Slice saved: C:/Users/USER/Downloads/test\\test.png\r"
     ]
    }
   ],
   "source": [
    "Img=np.load('C:/Users/USER/Downloads/luna_img_mask/train/images/images_230.npy')\n",
    "pathimg='C:/Users/USER/Downloads/test'\n",
    "saveSlice(Img, 'test', pathimg)"
   ]
  },
  {
   "cell_type": "code",
   "execution_count": 20,
   "id": "ae4e9eed-6187-432c-9724-72e70fb6f59f",
   "metadata": {},
   "outputs": [],
   "source": [
    "tr_output_img_path=\"C:/Users/USER/Downloads/PNG_Norm_luna_img_mask/train/images/class/\"\n",
    "tr_output_mask_path=\"C:/Users/USER/Downloads/PNG_Norm_luna_img_mask/train/labels/class/\"\n",
    "\n",
    "if not os.path.isdir(tr_output_img_path):\n",
    "    os.makedirs(tr_output_img_path)\n",
    "if not os.path.isdir(tr_output_mask_path):\n",
    "    os.makedirs(tr_output_mask_path)\n",
    "\n",
    "v_output_img_path=\"C:/Users/USER/Downloads/PNG_Norm_luna_img_mask/val/images/class/\"\n",
    "v_output_mask_path=\"C:/Users/USER/Downloads/PNG_Norm_luna_img_mask/val/labels/class/\"\n",
    "\n",
    "if not os.path.isdir(v_output_img_path):\n",
    "    os.makedirs(v_output_img_path)\n",
    "if not os.path.isdir(v_output_mask_path):\n",
    "    os.makedirs(v_output_mask_path)\n",
    "    \n",
    "ts_output_img_path=\"C:/Users/USER/Downloads/PNG_Norm_luna_img_mask/test/images/class/\"\n",
    "ts_output_mask_path=\"C:/Users/USER/Downloads/PNG_Norm_luna_img_mask/test/labels/class/\"\n",
    "\n",
    "if not os.path.isdir(ts_output_img_path):\n",
    "    os.makedirs(ts_output_img_path)\n",
    "if not os.path.isdir(ts_output_mask_path):\n",
    "    os.makedirs(ts_output_mask_path)"
   ]
  },
  {
   "cell_type": "code",
   "execution_count": 21,
   "id": "16d2f057-5135-47cb-82b3-a2d38d782568",
   "metadata": {},
   "outputs": [],
   "source": [
    "# STEP 1 - Load and visualize data\n",
    "\n",
    "tr_input_img_path=\"C:/Users/USER/Downloads/Norm_luna_img_mask/train/images/\"\n",
    "tr_input_mask_path=\"C:/Users/USER/Downloads/Norm_luna_img_mask/train/labels/\"\n",
    "\n",
    "v_input_img_path=\"C:/Users/USER/Downloads/Norm_luna_img_mask/val/images/\"\n",
    "v_input_mask_path=\"C:/Users/USER/Downloads/Norm_luna_img_mask/val/labels/\"\n",
    "\n",
    "ts_input_img_path=\"C:/Users/USER/Downloads/Norm_luna_img_mask/test/images/\"\n",
    "ts_input_mask_path=\"C:/Users/USER/Downloads/Norm_luna_img_mask/test/labels/\"\n"
   ]
  },
  {
   "cell_type": "code",
   "execution_count": 22,
   "id": "0f0fec25-038b-4913-8640-1d3b8912fdee",
   "metadata": {},
   "outputs": [],
   "source": [
    "import os"
   ]
  },
  {
   "cell_type": "code",
   "execution_count": 27,
   "id": "075cfc65-1b37-415a-bc50-3c1c33535e89",
   "metadata": {},
   "outputs": [
    {
     "name": "stdout",
     "output_type": "stream",
     "text": [
      "[+] Slice saved: C:/Users/USER/Downloads/PNG_Norm_luna_img_mask/train/images/class/images_999.pngg\r"
     ]
    }
   ],
   "source": [
    "for entry in os.scandir(tr_input_img_path):\n",
    "    if entry.path.endswith(\".npy\"):\n",
    "        #print(entry.name)\n",
    "        #print(entry.name[:-4])\n",
    "        img=np.load(entry.path)\n",
    "        saveSlice(img, entry.name[:-4], tr_output_img_path)"
   ]
  },
  {
   "cell_type": "code",
   "execution_count": 28,
   "id": "aba67ba5-2c7c-4d24-81f7-32ff8eef5e25",
   "metadata": {},
   "outputs": [
    {
     "name": "stdout",
     "output_type": "stream",
     "text": [
      "[+] Slice saved: C:/Users/USER/Downloads/PNG_Norm_luna_img_mask/train/labels/class/masks_999.pngg\r"
     ]
    }
   ],
   "source": [
    "for entry in os.scandir(tr_input_mask_path):\n",
    "    if entry.path.endswith(\".npy\"):\n",
    "        #print(entry.name)\n",
    "        #print(entry.name[:-4])\n",
    "        img=np.load(entry.path)\n",
    "        saveSlice(img, entry.name[:-4], tr_output_mask_path)"
   ]
  },
  {
   "cell_type": "code",
   "execution_count": 25,
   "id": "6cedab82-9285-4de2-b7bb-07319652a7e5",
   "metadata": {},
   "outputs": [
    {
     "name": "stdout",
     "output_type": "stream",
     "text": [
      "[+] Slice saved: C:/Users/USER/Downloads/PNG_Norm_luna_img_mask/val/images/class/images_995.pngg\r"
     ]
    }
   ],
   "source": [
    "for entry in os.scandir(v_input_img_path):\n",
    "    if entry.path.endswith(\".npy\"):\n",
    "        #print(entry.name)\n",
    "        #print(entry.name[:-4])\n",
    "        img=np.load(entry.path)\n",
    "        saveSlice(img, entry.name[:-4], v_output_img_path)"
   ]
  },
  {
   "cell_type": "code",
   "execution_count": 26,
   "id": "97311a0b-9d5e-4e46-8c67-ff477f52a97e",
   "metadata": {},
   "outputs": [
    {
     "name": "stdout",
     "output_type": "stream",
     "text": [
      "[+] Slice saved: C:/Users/USER/Downloads/PNG_Norm_luna_img_mask/val/labels/class/masks_995.pngg\r"
     ]
    }
   ],
   "source": [
    "for entry in os.scandir(v_input_mask_path):\n",
    "    if entry.path.endswith(\".npy\"):\n",
    "        #print(entry.name)\n",
    "        #print(entry.name[:-4])\n",
    "        img=np.load(entry.path)\n",
    "        saveSlice(img, entry.name[:-4], v_output_mask_path)"
   ]
  },
  {
   "cell_type": "code",
   "execution_count": 23,
   "id": "f4b7387b-c001-4efc-bca9-2da3dfbebcc0",
   "metadata": {},
   "outputs": [
    {
     "name": "stdout",
     "output_type": "stream",
     "text": [
      "[+] Slice saved: C:/Users/USER/Downloads/PNG_Norm_luna_img_mask/test/images/class/images_984.pngg\r"
     ]
    }
   ],
   "source": [
    "for entry in os.scandir(ts_input_img_path):\n",
    "    if entry.path.endswith(\".npy\"):\n",
    "        #print(entry.name)\n",
    "        #print(entry.name[:-4])\n",
    "        img=np.load(entry.path)\n",
    "        saveSlice(img, entry.name[:-4], ts_output_img_path)"
   ]
  },
  {
   "cell_type": "code",
   "execution_count": 24,
   "id": "bd1fa8c0-d2ff-4748-83a7-064cef48539f",
   "metadata": {},
   "outputs": [
    {
     "name": "stdout",
     "output_type": "stream",
     "text": [
      "[+] Slice saved: C:/Users/USER/Downloads/PNG_Norm_luna_img_mask/test/labels/class/masks_984.pngg\r"
     ]
    }
   ],
   "source": [
    "for entry in os.scandir(ts_input_mask_path):\n",
    "    if entry.path.endswith(\".npy\"):\n",
    "        #print(entry.name)\n",
    "        #print(entry.name[:-4])\n",
    "        img=np.load(entry.path)\n",
    "        saveSlice(img, entry.name[:-4], ts_output_mask_path)"
   ]
  },
  {
   "cell_type": "code",
   "execution_count": null,
   "id": "8a3b742e-7437-4e7f-af67-ccc39ce50fd0",
   "metadata": {},
   "outputs": [],
   "source": []
  }
 ],
 "metadata": {
  "kernelspec": {
   "display_name": "Python 3",
   "language": "python",
   "name": "python3"
  },
  "language_info": {
   "codemirror_mode": {
    "name": "ipython",
    "version": 3
   },
   "file_extension": ".py",
   "mimetype": "text/x-python",
   "name": "python",
   "nbconvert_exporter": "python",
   "pygments_lexer": "ipython3",
   "version": "3.7.4"
  }
 },
 "nbformat": 4,
 "nbformat_minor": 5
}
